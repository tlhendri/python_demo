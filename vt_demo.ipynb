{
 "cells": [
  {
   "cell_type": "code",
   "execution_count": null,
   "metadata": {},
   "outputs": [],
   "source": [
    "import pickle\n",
    "import requests\n",
    "import time"
   ]
  },
  {
   "cell_type": "code",
   "execution_count": null,
   "metadata": {},
   "outputs": [],
   "source": [
    "pickle_dir = ''\n",
    "\n",
    "def save_obj(obj, name):\n",
    "    with open(pickle_dir + name + '.pkl', 'wb') as f:\n",
    "        pickle.dump(obj, f, pickle.HIGHEST_PROTOCOL)\n",
    "\n",
    "def load_obj(name):\n",
    "    with open(pickle_dir + str(name) + '.pkl', 'rb') as f:\n",
    "        return pickle.load(f)"
   ]
  },
  {
   "cell_type": "code",
   "execution_count": null,
   "metadata": {},
   "outputs": [],
   "source": [
    "vt_key = '' #corp"
   ]
  },
  {
   "cell_type": "code",
   "execution_count": null,
   "metadata": {},
   "outputs": [],
   "source": [
    "proxy_host = ''\n",
    "username = cred_pickle['username']\n",
    "password = cred_pickle['password']\n",
    "proxies = {\n",
    "    'http':'http://%s:%s@%s' % (username, password, proxy_host),\n",
    "    'https':'http://%s:%s@%s' % (username, password, proxy_host)\n",
    "}"
   ]
  },
  {
   "cell_type": "code",
   "execution_count": null,
   "metadata": {},
   "outputs": [],
   "source": [
    "def vt_lookup_url(lookup_url):\n",
    "    params = {'apikey': vt_key, 'url':lookup_url}\n",
    "    vt_url = 'https://www.virustotal.com/vtapi/v2/url/scan'\n",
    "    response = requests.post(vt_url, \n",
    "                             data = params)\n",
    "    time.sleep(15.5)\n",
    "    return response.json()"
   ]
  },
  {
   "cell_type": "code",
   "execution_count": null,
   "metadata": {},
   "outputs": [],
   "source": [
    "def vt_lookup_hash(lookup_hash):\n",
    "    params = {'apikey': vt_key, 'resource': lookup_hash}\n",
    "    vt_url = 'https://www.virustotal.com/vtapi/v2/file/report'\n",
    "    response = requests.get('https://www.virustotal.com/vtapi/v2/file/report',\n",
    "                            params = params)\n",
    "    time.sleep(15.5)\n",
    "    return response.json()"
   ]
  }
 ],
 "metadata": {
  "kernelspec": {
   "display_name": "Python 3",
   "language": "python",
   "name": "python3"
  },
  "language_info": {
   "codemirror_mode": {
    "name": "ipython",
    "version": 3
   },
   "file_extension": ".py",
   "mimetype": "text/x-python",
   "name": "python",
   "nbconvert_exporter": "python",
   "pygments_lexer": "ipython3",
   "version": "3.6.6"
  }
 },
 "nbformat": 4,
 "nbformat_minor": 4
}
